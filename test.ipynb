{
 "cells": [
  {
   "cell_type": "code",
   "execution_count": 6,
   "metadata": {},
   "outputs": [
    {
     "name": "stdout",
     "output_type": "stream",
     "text": [
      "{'type': 'interactive', 'interactive': {'type': 'list', 'header': {'type': 'text', 'text': 'Job Opportunities'}, 'body': {'text': 'Please select a position to learn more:'}, 'footer': {'text': 'Powered by Our Company'}, 'action': {'sections': [{'title': 'Available Positions', 'rows': [{'id': '1', 'title': 'Software Engineer', 'description': 'Work on web applications'}, {'id': '2', 'title': 'Data Scientist', 'description': 'Analyze data and build models'}]}], 'button': 'Select'}}}\n"
     ]
    }
   ],
   "source": [
    "import json\n",
    "\n",
    "# Function to fetch data from the database\n",
    "def fetch_data_from_database():\n",
    "    # This function should interact with your database and return data\n",
    "    # For demonstration, let's use some dummy data\n",
    "    data = [\n",
    "        {\n",
    "            \"section_title\": \"Available Positions\",\n",
    "            \"rows\": [\n",
    "                {\"id\": \"1\", \"title\": \"Software Engineer\", \"description\": \"Work on web applications\"},\n",
    "                {\"id\": \"2\", \"title\": \"Data Scientist\", \"description\": \"Analyze data and build models\"},\n",
    "                # Add more rows as needed\n",
    "            ]\n",
    "        },\n",
    "    ]\n",
    "    return data\n",
    "\n",
    "# Function to create interactive JSON\n",
    "def create_interactive_json(header_text, body_text, footer_text, button_text):\n",
    "    data = fetch_data_from_database()\n",
    "    sections = []\n",
    "    \n",
    "    for section in data:\n",
    "        section_data = {\n",
    "            \"title\": section[\"section_title\"],\n",
    "            \"rows\": []\n",
    "        }\n",
    "        for row in section[\"rows\"]:\n",
    "            row_data = {\n",
    "                \"id\": row[\"id\"],\n",
    "                \"title\": row[\"title\"],\n",
    "                \"description\": row[\"description\"]\n",
    "            }\n",
    "            section_data[\"rows\"].append(row_data)\n",
    "        sections.append(section_data)\n",
    "    \n",
    "    interactive_json = {\n",
    "        \"type\": \"interactive\",\n",
    "        \"interactive\": {\n",
    "            \"type\": \"list\",\n",
    "            \"header\": {\n",
    "                \"type\": \"text\",\n",
    "                \"text\": header_text\n",
    "            },\n",
    "            \"body\": {\n",
    "                \"text\": body_text\n",
    "            },\n",
    "            \"footer\": {\n",
    "                \"text\": footer_text\n",
    "            },\n",
    "            \"action\": {\n",
    "                \"sections\": sections,\n",
    "                \"button\": button_text\n",
    "            }\n",
    "        }\n",
    "    }\n",
    "    \n",
    "    return interactive_json\n",
    "\n",
    "# Example usage\n",
    "header_text = \"Job Opportunities\"\n",
    "body_text = \"Please select a position to learn more:\"\n",
    "footer_text = \"Powered by Our Company\"\n",
    "button_text = \"Select\"\n",
    "\n",
    "interactive_json = create_interactive_json(header_text, body_text, footer_text, button_text)\n",
    "print(interactive_json)\n"
   ]
  },
  {
   "cell_type": "code",
   "execution_count": 7,
   "metadata": {},
   "outputs": [
    {
     "name": "stdout",
     "output_type": "stream",
     "text": [
      "{\n",
      "    \"messaging_product\": \"whatsapp\",\n",
      "    \"to\": \"12311\",\n",
      "    \"type\": \"interactive\",\n",
      "    \"interactive\": {\n",
      "        \"type\": \"list\",\n",
      "        \"header\": {\n",
      "            \"type\": \"text\",\n",
      "            \"text\": \"Job Opportunities\"\n",
      "        },\n",
      "        \"body\": {\n",
      "            \"text\": \"Please select a position to learn more:\"\n",
      "        },\n",
      "        \"footer\": {\n",
      "            \"text\": \"Powered by Our Company\"\n",
      "        },\n",
      "        \"action\": {\n",
      "            \"sections\": [\n",
      "                {\n",
      "                    \"title\": \"Available Positions\",\n",
      "                    \"rows\": [\n",
      "                        {\n",
      "                            \"id\": \"1\",\n",
      "                            \"title\": \"Software Engineer\",\n",
      "                            \"description\": \"Work on web applications\"\n",
      "                        },\n",
      "                        {\n",
      "                            \"id\": \"2\",\n",
      "                            \"title\": \"Data Scientist\",\n",
      "                            \"description\": \"Analyze data and build models\"\n",
      "                        }\n",
      "                    ]\n",
      "                }\n",
      "            ],\n",
      "            \"button\": \"Select\"\n",
      "        }\n",
      "    }\n",
      "}\n"
     ]
    }
   ],
   "source": [
    "data = {\n",
    "    \"messaging_product\": \"whatsapp\",\n",
    "    \"to\": \"12311\", #change to something else\n",
    "}\n",
    "data.update(interactive_json)\n",
    "final_json = json.dumps(data, indent=4)\n",
    "print(final_json)\n",
    "\n"
   ]
  },
  {
   "cell_type": "code",
   "execution_count": 1,
   "metadata": {},
   "outputs": [
    {
     "data": {
      "text/plain": [
       "29"
      ]
     },
     "execution_count": 1,
     "metadata": {},
     "output_type": "execute_result"
    }
   ],
   "source": [
    "len('Оператор строительной техники')"
   ]
  },
  {
   "cell_type": "code",
   "execution_count": 1,
   "metadata": {},
   "outputs": [],
   "source": [
    "# Example survey questions with JSON keys\n",
    "survey_questions = [\n",
    "    {\"question\": \"Как вас зовут?\", \"key\": \"name\"},\n",
    "    {\"question\": \"Сколько вам лет?\", \"key\": \"email\"},\n",
    "    {\"question\": \"На какую вакансию вы хотите устроиться?\", \"key\": \"vacancy\"},\n",
    "    {\"question\": \"Пожалуйста, загрузите ваше резюме.\", \"key\": \"resume\"}\n",
    "]\n",
    "\n",
    "# In-memory session storage\n",
    "sessions = {}\n",
    "wa_id = \"123\"\n",
    "sessions[wa_id] = {\"responses\": {}, \"current_step\": 0}\n",
    "\n",
    "question = survey_questions[sessions[wa_id][\"current_step\"]]"
   ]
  },
  {
   "cell_type": "code",
   "execution_count": 12,
   "metadata": {},
   "outputs": [
    {
     "data": {
      "text/plain": [
       "'Как вас зовут?'"
      ]
     },
     "execution_count": 12,
     "metadata": {},
     "output_type": "execute_result"
    }
   ],
   "source": [
    "question['question']"
   ]
  },
  {
   "cell_type": "code",
   "execution_count": 13,
   "metadata": {},
   "outputs": [],
   "source": [
    "sessions[wa_id][\"current_step\"] = 1 + 1"
   ]
  },
  {
   "cell_type": "code",
   "execution_count": 14,
   "metadata": {},
   "outputs": [
    {
     "data": {
      "text/plain": [
       "2"
      ]
     },
     "execution_count": 14,
     "metadata": {},
     "output_type": "execute_result"
    }
   ],
   "source": [
    "sessions[wa_id][\"current_step\"]"
   ]
  }
 ],
 "metadata": {
  "kernelspec": {
   "display_name": "base",
   "language": "python",
   "name": "python3"
  },
  "language_info": {
   "codemirror_mode": {
    "name": "ipython",
    "version": 3
   },
   "file_extension": ".py",
   "mimetype": "text/x-python",
   "name": "python",
   "nbconvert_exporter": "python",
   "pygments_lexer": "ipython3",
   "version": "3.9.6"
  }
 },
 "nbformat": 4,
 "nbformat_minor": 2
}
